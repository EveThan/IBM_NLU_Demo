{
  "nbformat": 4,
  "nbformat_minor": 0,
  "metadata": {
    "colab": {
      "name": "Similarity between Texts",
      "provenance": [],
      "collapsed_sections": []
    },
    "kernelspec": {
      "name": "python3",
      "display_name": "Python 3"
    },
    "language_info": {
      "name": "python"
    }
  },
  "cells": [
    {
      "cell_type": "markdown",
      "source": [
        "## **Import IBM NLU API**"
      ],
      "metadata": {
        "id": "n_Y5v8GgTSmp"
      }
    },
    {
      "cell_type": "code",
      "source": [
        "!pip install --upgrade \"ibm-watson>=4.2.1\""
      ],
      "metadata": {
        "id": "TbeUenaRTU7K"
      },
      "execution_count": null,
      "outputs": []
    },
    {
      "cell_type": "code",
      "source": [
        "import json\n",
        "from ibm_watson import NaturalLanguageUnderstandingV1\n",
        "from ibm_cloud_sdk_core.authenticators import IAMAuthenticator\n",
        "from ibm_watson.natural_language_understanding_v1 import Features, CategoriesOptions, ClassificationsOptions, ConceptsOptions, EmotionOptions, \\\n",
        "EntitiesOptions, KeywordsOptions, RelationsOptions, SemanticRolesOptions, SentimentOptions, SyntaxOptions, SyntaxOptionsTokens\n",
        "\n",
        "authenticator = IAMAuthenticator('hzQviQPuTzZXbVrXp5BLRb3qLn4PkGhuJq0XM0UUSD0t')\n",
        "natural_language_understanding = NaturalLanguageUnderstandingV1(version='2021-08-01', authenticator=authenticator)\n",
        "\n",
        "natural_language_understanding.set_service_url('https://api.us-south.natural-language-understanding.watson.cloud.ibm.com/instances/b8ba28f5-ecdb-4a85-bbca-cccb8cffe764')"
      ],
      "metadata": {
        "id": "bsdP0COzTXfE"
      },
      "execution_count": null,
      "outputs": []
    },
    {
      "cell_type": "markdown",
      "source": [
        "## **Connect to Google Drive to get IBM category dataset**"
      ],
      "metadata": {
        "id": "bi0e3M0VYXbO"
      }
    },
    {
      "cell_type": "code",
      "source": [
        "# Mount Google Drive to get the dataset\n",
        "from google.colab import drive\n",
        "\n",
        "drive.mount('/content/drive')"
      ],
      "metadata": {
        "colab": {
          "base_uri": "https://localhost:8080/"
        },
        "id": "GGtwtbUqYU8k",
        "outputId": "b53cbf35-a8ef-4111-dcb5-8578b9e51664"
      },
      "execution_count": null,
      "outputs": [
        {
          "output_type": "stream",
          "name": "stdout",
          "text": [
            "Mounted at /content/drive\n"
          ]
        }
      ]
    },
    {
      "cell_type": "code",
      "source": [
        "# Store the dataset as a dataframe\n",
        "import pandas as pd\n",
        "\n",
        "df = pd.read_excel(\"/content/drive/My Drive/categories-hierarchy-iab.xlsx\")"
      ],
      "metadata": {
        "id": "tU36pXz1YlBb"
      },
      "execution_count": null,
      "outputs": []
    },
    {
      "cell_type": "code",
      "source": [
        "df.head(1)"
      ],
      "metadata": {
        "colab": {
          "base_uri": "https://localhost:8080/",
          "height": 80
        },
        "id": "2W-znKe7Y3VF",
        "outputId": "09f0f60d-09e2-419d-b5fa-bf822a5effe7"
      },
      "execution_count": null,
      "outputs": [
        {
          "output_type": "execute_result",
          "data": {
            "text/plain": [
              "                 LEVEL 1               LEVEL 2       LEVEL 3 LEVEL 4 LEVEL 5\n",
              "0  art and entertainment  books and literature  best-sellers     NaN     NaN"
            ],
            "text/html": [
              "\n",
              "  <div id=\"df-317238f3-67b9-4f4a-9671-23e5c5f51efd\">\n",
              "    <div class=\"colab-df-container\">\n",
              "      <div>\n",
              "<style scoped>\n",
              "    .dataframe tbody tr th:only-of-type {\n",
              "        vertical-align: middle;\n",
              "    }\n",
              "\n",
              "    .dataframe tbody tr th {\n",
              "        vertical-align: top;\n",
              "    }\n",
              "\n",
              "    .dataframe thead th {\n",
              "        text-align: right;\n",
              "    }\n",
              "</style>\n",
              "<table border=\"1\" class=\"dataframe\">\n",
              "  <thead>\n",
              "    <tr style=\"text-align: right;\">\n",
              "      <th></th>\n",
              "      <th>LEVEL 1</th>\n",
              "      <th>LEVEL 2</th>\n",
              "      <th>LEVEL 3</th>\n",
              "      <th>LEVEL 4</th>\n",
              "      <th>LEVEL 5</th>\n",
              "    </tr>\n",
              "  </thead>\n",
              "  <tbody>\n",
              "    <tr>\n",
              "      <th>0</th>\n",
              "      <td>art and entertainment</td>\n",
              "      <td>books and literature</td>\n",
              "      <td>best-sellers</td>\n",
              "      <td>NaN</td>\n",
              "      <td>NaN</td>\n",
              "    </tr>\n",
              "  </tbody>\n",
              "</table>\n",
              "</div>\n",
              "      <button class=\"colab-df-convert\" onclick=\"convertToInteractive('df-317238f3-67b9-4f4a-9671-23e5c5f51efd')\"\n",
              "              title=\"Convert this dataframe to an interactive table.\"\n",
              "              style=\"display:none;\">\n",
              "        \n",
              "  <svg xmlns=\"http://www.w3.org/2000/svg\" height=\"24px\"viewBox=\"0 0 24 24\"\n",
              "       width=\"24px\">\n",
              "    <path d=\"M0 0h24v24H0V0z\" fill=\"none\"/>\n",
              "    <path d=\"M18.56 5.44l.94 2.06.94-2.06 2.06-.94-2.06-.94-.94-2.06-.94 2.06-2.06.94zm-11 1L8.5 8.5l.94-2.06 2.06-.94-2.06-.94L8.5 2.5l-.94 2.06-2.06.94zm10 10l.94 2.06.94-2.06 2.06-.94-2.06-.94-.94-2.06-.94 2.06-2.06.94z\"/><path d=\"M17.41 7.96l-1.37-1.37c-.4-.4-.92-.59-1.43-.59-.52 0-1.04.2-1.43.59L10.3 9.45l-7.72 7.72c-.78.78-.78 2.05 0 2.83L4 21.41c.39.39.9.59 1.41.59.51 0 1.02-.2 1.41-.59l7.78-7.78 2.81-2.81c.8-.78.8-2.07 0-2.86zM5.41 20L4 18.59l7.72-7.72 1.47 1.35L5.41 20z\"/>\n",
              "  </svg>\n",
              "      </button>\n",
              "      \n",
              "  <style>\n",
              "    .colab-df-container {\n",
              "      display:flex;\n",
              "      flex-wrap:wrap;\n",
              "      gap: 12px;\n",
              "    }\n",
              "\n",
              "    .colab-df-convert {\n",
              "      background-color: #E8F0FE;\n",
              "      border: none;\n",
              "      border-radius: 50%;\n",
              "      cursor: pointer;\n",
              "      display: none;\n",
              "      fill: #1967D2;\n",
              "      height: 32px;\n",
              "      padding: 0 0 0 0;\n",
              "      width: 32px;\n",
              "    }\n",
              "\n",
              "    .colab-df-convert:hover {\n",
              "      background-color: #E2EBFA;\n",
              "      box-shadow: 0px 1px 2px rgba(60, 64, 67, 0.3), 0px 1px 3px 1px rgba(60, 64, 67, 0.15);\n",
              "      fill: #174EA6;\n",
              "    }\n",
              "\n",
              "    [theme=dark] .colab-df-convert {\n",
              "      background-color: #3B4455;\n",
              "      fill: #D2E3FC;\n",
              "    }\n",
              "\n",
              "    [theme=dark] .colab-df-convert:hover {\n",
              "      background-color: #434B5C;\n",
              "      box-shadow: 0px 1px 3px 1px rgba(0, 0, 0, 0.15);\n",
              "      filter: drop-shadow(0px 1px 2px rgba(0, 0, 0, 0.3));\n",
              "      fill: #FFFFFF;\n",
              "    }\n",
              "  </style>\n",
              "\n",
              "      <script>\n",
              "        const buttonEl =\n",
              "          document.querySelector('#df-317238f3-67b9-4f4a-9671-23e5c5f51efd button.colab-df-convert');\n",
              "        buttonEl.style.display =\n",
              "          google.colab.kernel.accessAllowed ? 'block' : 'none';\n",
              "\n",
              "        async function convertToInteractive(key) {\n",
              "          const element = document.querySelector('#df-317238f3-67b9-4f4a-9671-23e5c5f51efd');\n",
              "          const dataTable =\n",
              "            await google.colab.kernel.invokeFunction('convertToInteractive',\n",
              "                                                     [key], {});\n",
              "          if (!dataTable) return;\n",
              "\n",
              "          const docLinkHtml = 'Like what you see? Visit the ' +\n",
              "            '<a target=\"_blank\" href=https://colab.research.google.com/notebooks/data_table.ipynb>data table notebook</a>'\n",
              "            + ' to learn more about interactive tables.';\n",
              "          element.innerHTML = '';\n",
              "          dataTable['output_type'] = 'display_data';\n",
              "          await google.colab.output.renderOutput(dataTable, element);\n",
              "          const docLink = document.createElement('div');\n",
              "          docLink.innerHTML = docLinkHtml;\n",
              "          element.appendChild(docLink);\n",
              "        }\n",
              "      </script>\n",
              "    </div>\n",
              "  </div>\n",
              "  "
            ]
          },
          "metadata": {},
          "execution_count": 6
        }
      ]
    },
    {
      "cell_type": "code",
      "source": [
        "print((str(df.head(1)['LEVEL 1'][0])))"
      ],
      "metadata": {
        "colab": {
          "base_uri": "https://localhost:8080/"
        },
        "id": "7qvdWIE_eaqK",
        "outputId": "493b4896-d08d-49fe-886e-c6cbcb0019bc"
      },
      "execution_count": null,
      "outputs": [
        {
          "output_type": "stream",
          "name": "stdout",
          "text": [
            "art and entertainment\n"
          ]
        }
      ]
    },
    {
      "cell_type": "markdown",
      "source": [
        "## **Focus on the Categories feature**"
      ],
      "metadata": {
        "id": "iA4qB2seUDij"
      }
    },
    {
      "cell_type": "markdown",
      "source": [
        "### Process **sample_text**: get category labels and their respective scores"
      ],
      "metadata": {
        "id": "2u1j1UbaJ0Km"
      }
    },
    {
      "cell_type": "code",
      "source": [
        "sample_text = \"According to the statement, the rockfall was unrelated to work that’s underway on the Kicking Horse Canyon Phase 4 project. Rockfall is a hazard along many B.C. highways and the Ministry of Transportation and Infrastructure has dedicated staff and resources that work to identify, prioritize and mitigate rockfall hazards throughout the province. The rockfall protection near this site pre-dates the project and was installed by Ministry of Transportation and Infrastructure in an area identified by geotechnical engineers.\"\n",
        "\n",
        "print(\"Text: %s\\n\" % sample_text)\n",
        "response = natural_language_understanding.analyze(text=sample_text, features=Features(categories=CategoriesOptions(limit=3))).get_result()\n",
        "\n",
        "categories = response[\"categories\"]\n",
        "category_dict = {}\n",
        "\n",
        "for category in categories:\n",
        "  label_list = []\n",
        "  for label in reversed(category[\"label\"].split(\"/\")):\n",
        "    if label != '':\n",
        "      if label not in category_dict.keys():             # If a label has already appeared in our list, don't update its score because we want to store the highest score for every label\n",
        "        category_dict[label] = category[\"score\"]\n",
        "  \n",
        "print(category_dict)\n",
        "sample_text_cat_dict = category_dict"
      ],
      "metadata": {
        "colab": {
          "base_uri": "https://localhost:8080/"
        },
        "id": "yF9Pq76CTggu",
        "outputId": "dc5de0bf-8176-4603-8c60-afe4dd895260"
      },
      "execution_count": null,
      "outputs": [
        {
          "output_type": "stream",
          "name": "stdout",
          "text": [
            "Text: According to the statement, the rockfall was unrelated to work that’s underway on the Kicking Horse Canyon Phase 4 project. Rockfall is a hazard along many B.C. highways and the Ministry of Transportation and Infrastructure has dedicated staff and resources that work to identify, prioritize and mitigate rockfall hazards throughout the province. The rockfall protection near this site pre-dates the project and was installed by Ministry of Transportation and Infrastructure in an area identified by geotechnical engineers.\n",
            "\n",
            "{'construction': 0.714107, 'business and industrial': 0.714107, 'earthquakes': 0.586231, 'seismology': 0.586231, 'geology': 0.586231, 'science': 0.586231, 'engineering': 0.58616}\n"
          ]
        }
      ]
    },
    {
      "cell_type": "markdown",
      "source": [
        "### Process **text_to_compare**: get category labels and their respective scores"
      ],
      "metadata": {
        "id": "REEWI0wnKexq"
      }
    },
    {
      "cell_type": "code",
      "source": [
        "text_to_compare1 = \"The building’s post-tensioned concrete structure is designed to minimize damage and risk to residents in the event of an earthquake. The south and southeast facades will feature a floor-to-ceiling glass wall section facing the Salt Lake Valley and Wasatch Front, maximizing scenic views for residents. The remainder of the facade will be composed of a variation of glass-fiber reinforced concrete, set off with recessed windows.\"\n",
        "text_to_compare2 = \"Dr. Kieran Moore has also said making masks optional does not signal that COVID-19 has disappeared or that the pandemic is over, but it means that Ontario has come to place where it can now manage the virus. Some local health officials in parts of the province's north are encouraging residents to keep wearing masks in indoor public settings.\"\n",
        "text_to_compare3 = \"China Eastern gave its website a black-and-white homepage after the crash. The crash quickly became a leading topic on China's Weibo social media platform, with 1.34 billion views and 690,000 discussions. Many posts expressed condolences to the families of victims. Boeing began delivering the 737-800 to customers in 1997 and delivered the last of the series to China Eastern in 2020. It made over 5,200 of the narrow-body aircraft, a popular, single-aisle commuter plane.\"\n",
        "\n",
        "text_to_compare_list = [text_to_compare1, text_to_compare2, text_to_compare3]\n",
        "all_category_dict = {}\n",
        "\n",
        "for text in text_to_compare_list:\n",
        "  print(\"Text: %s\\n\" % text)\n",
        "  response = natural_language_understanding.analyze(text=text, features=Features(categories=CategoriesOptions(limit=3))).get_result()\n",
        "\n",
        "  categories = response[\"categories\"]\n",
        "  category_dict = {}\n",
        "\n",
        "  for category in categories:\n",
        "    label_list = []\n",
        "    for label in reversed(category[\"label\"].split(\"/\")):\n",
        "      if label != '':\n",
        "        if label not in category_dict.keys():             # If a label has already appeared in our list, don't update its score because we want to store the highest score for every label\n",
        "          category_dict[label] = category[\"score\"]\n",
        "  \n",
        "  all_category_dict[text] = category_dict\n",
        "  print(category_dict)\n",
        "  print(\"\\n\")\n",
        "\n",
        "print(\"all_category_dict: \", all_category_dict)"
      ],
      "metadata": {
        "id": "Ej9X87sKUrw2",
        "colab": {
          "base_uri": "https://localhost:8080/"
        },
        "outputId": "6747a62e-2fcd-4ebf-d3b1-44aa96b89a46"
      },
      "execution_count": null,
      "outputs": [
        {
          "output_type": "stream",
          "name": "stdout",
          "text": [
            "Text: The building’s post-tensioned concrete structure is designed to minimize damage and risk to residents in the event of an earthquake. The south and southeast facades will feature a floor-to-ceiling glass wall section facing the Salt Lake Valley and Wasatch Front, maximizing scenic views for residents. The remainder of the facade will be composed of a variation of glass-fiber reinforced concrete, set off with recessed windows.\n",
            "\n",
            "{'construction': 0.723916, 'business and industrial': 0.723916, 'architecture': 0.599365, 'visual art and design': 0.599365, 'art and entertainment': 0.599365, 'design': 0.598439}\n",
            "\n",
            "\n",
            "Text: Dr. Kieran Moore has also said making masks optional does not signal that COVID-19 has disappeared or that the pandemic is over, but it means that Ontario has come to place where it can now manage the virus. Some local health officials in parts of the province's north are encouraging residents to keep wearing masks in indoor public settings.\n",
            "\n",
            "{'cold and flu': 0.94605, 'disease': 0.94605, 'health and fitness': 0.94605, 'epidemic': 0.847396}\n",
            "\n",
            "\n",
            "Text: China Eastern gave its website a black-and-white homepage after the crash. The crash quickly became a leading topic on China's Weibo social media platform, with 1.34 billion views and 690,000 discussions. Many posts expressed condolences to the families of victims. Boeing began delivering the 737-800 to customers in 1997 and delivered the last of the series to China Eastern in 2020. It made over 5,200 of the narrow-body aircraft, a popular, single-aisle commuter plane.\n",
            "\n",
            "{'social network': 0.773738, 'internet technology': 0.773738, 'technology and computing': 0.773738, 'rolls-royce': 0.61762, 'vehicle brands': 0.61762, 'automotive and vehicles': 0.61762, 'business operations': 0.600858, 'business and industrial': 0.600858}\n",
            "\n",
            "\n",
            "all_category_dict:  {'The building’s post-tensioned concrete structure is designed to minimize damage and risk to residents in the event of an earthquake. The south and southeast facades will feature a floor-to-ceiling glass wall section facing the Salt Lake Valley and Wasatch Front, maximizing scenic views for residents. The remainder of the facade will be composed of a variation of glass-fiber reinforced concrete, set off with recessed windows.': {'construction': 0.723916, 'business and industrial': 0.723916, 'architecture': 0.599365, 'visual art and design': 0.599365, 'art and entertainment': 0.599365, 'design': 0.598439}, \"Dr. Kieran Moore has also said making masks optional does not signal that COVID-19 has disappeared or that the pandemic is over, but it means that Ontario has come to place where it can now manage the virus. Some local health officials in parts of the province's north are encouraging residents to keep wearing masks in indoor public settings.\": {'cold and flu': 0.94605, 'disease': 0.94605, 'health and fitness': 0.94605, 'epidemic': 0.847396}, \"China Eastern gave its website a black-and-white homepage after the crash. The crash quickly became a leading topic on China's Weibo social media platform, with 1.34 billion views and 690,000 discussions. Many posts expressed condolences to the families of victims. Boeing began delivering the 737-800 to customers in 1997 and delivered the last of the series to China Eastern in 2020. It made over 5,200 of the narrow-body aircraft, a popular, single-aisle commuter plane.\": {'social network': 0.773738, 'internet technology': 0.773738, 'technology and computing': 0.773738, 'rolls-royce': 0.61762, 'vehicle brands': 0.61762, 'automotive and vehicles': 0.61762, 'business operations': 0.600858, 'business and industrial': 0.600858}}\n"
          ]
        }
      ]
    },
    {
      "cell_type": "markdown",
      "source": [
        "## **Get similarity scores**"
      ],
      "metadata": {
        "id": "_92WRStqMiVC"
      }
    },
    {
      "cell_type": "code",
      "source": [
        "similarity_scores_dict = {}\n",
        "\n",
        "# Initialize\n",
        "for compare_text in all_category_dict.keys():\n",
        "  similarity_scores_dict[compare_text] = 0\n",
        "\n",
        "# Create reward based on the label's relevance to sample_text\n",
        "sample_highest_reward = len(sample_text_cat_dict)  \n",
        "\n",
        "for i, sample_label in enumerate(sample_text_cat_dict.keys()):\n",
        "  reward = sample_highest_reward - i\n",
        "\n",
        "  for j, compare_text in enumerate(all_category_dict.keys()):\n",
        "    if sample_label in all_category_dict[compare_text]:\n",
        "      score = all_category_dict[compare_text][sample_label]\n",
        "\n",
        "      similarity_scores_dict[compare_text] += reward*score\n",
        "\n",
        "print(\"Similarity scores: \", similarity_scores_dict.values())"
      ],
      "metadata": {
        "id": "Vp1ppKoPLz_u",
        "colab": {
          "base_uri": "https://localhost:8080/"
        },
        "outputId": "a40c25ad-53a9-466e-ae63-cb8a5f0de130"
      },
      "execution_count": null,
      "outputs": [
        {
          "output_type": "stream",
          "name": "stdout",
          "text": [
            "Similarity scores:  dict_values([9.410908, 0, 3.605148])\n"
          ]
        }
      ]
    },
    {
      "cell_type": "markdown",
      "source": [
        "## **Recommend the most similar compare_text to sample_text**"
      ],
      "metadata": {
        "id": "qyjR4_6uUnMY"
      }
    },
    {
      "cell_type": "code",
      "source": [
        "find_max = max(similarity_scores_dict, key=similarity_scores_dict.get)\n",
        "\n",
        "print(\"The most similar text: \", find_max)"
      ],
      "metadata": {
        "colab": {
          "base_uri": "https://localhost:8080/"
        },
        "id": "SvAkz_FcPxaZ",
        "outputId": "d0fc2765-b4a9-493b-9b15-d06c004d2bdb"
      },
      "execution_count": null,
      "outputs": [
        {
          "output_type": "stream",
          "name": "stdout",
          "text": [
            "The most similar text:  The building’s post-tensioned concrete structure is designed to minimize damage and risk to residents in the event of an earthquake. The south and southeast facades will feature a floor-to-ceiling glass wall section facing the Salt Lake Valley and Wasatch Front, maximizing scenic views for residents. The remainder of the facade will be composed of a variation of glass-fiber reinforced concrete, set off with recessed windows.\n"
          ]
        }
      ]
    }
  ]
}
